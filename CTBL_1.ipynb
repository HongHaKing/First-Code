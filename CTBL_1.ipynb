{
  "nbformat": 4,
  "nbformat_minor": 0,
  "metadata": {
    "colab": {
      "provenance": [],
      "toc_visible": true,
      "authorship_tag": "ABX9TyMZ4+gPJJ06Y44wHynnR/Mx",
      "include_colab_link": true
    },
    "kernelspec": {
      "name": "python3",
      "display_name": "Python 3"
    },
    "language_info": {
      "name": "python"
    }
  },
  "cells": [
    {
      "cell_type": "markdown",
      "metadata": {
        "id": "view-in-github",
        "colab_type": "text"
      },
      "source": [
        "<a href=\"https://colab.research.google.com/github/HongHaKing/First-Code/blob/main/CTBL_1.ipynb\" target=\"_parent\"><img src=\"https://colab.research.google.com/assets/colab-badge.svg\" alt=\"Open In Colab\"/></a>"
      ]
    },
    {
      "cell_type": "markdown",
      "source": [
        "1. 학생으로부터 성적을 입력받아 합격유무를 출력하는 코드작성\n",
        " - 사용변수: Grade\n",
        " - 사용수식: Grade >= 70:"
      ],
      "metadata": {
        "id": "9v-BTARx00I9"
      }
    },
    {
      "cell_type": "code",
      "source": [
        "Grade = int(input(\"성적입력: \"))\n",
        "if Grade >= 70:\n",
        "  print(\"70점 이상으므로 합격\")\n",
        "else:\n",
        "  print(\"70점 이하는 불합격\")\n"
      ],
      "metadata": {
        "colab": {
          "base_uri": "https://localhost:8080/"
        },
        "id": "UpO0YNom1V3O",
        "outputId": "732a5e3b-0ef2-43b9-dbb6-19da6aed2b70"
      },
      "execution_count": 2,
      "outputs": [
        {
          "output_type": "stream",
          "name": "stdout",
          "text": [
            "성적입력: 80\n",
            "70점 이상으므로 합격\n"
          ]
        }
      ]
    },
    {
      "cell_type": "markdown",
      "source": [
        "2. 쇼핑몰의 배송료를 계산하는 코드 작성\n",
        " - 변수명: price, shipping_cost\n",
        " - 수식: price >= 20000\n",
        " - shipping_cost = 3000"
      ],
      "metadata": {
        "id": "LDslR1XB3uVz"
      }
    },
    {
      "cell_type": "code",
      "source": [
        "price = int(input(\"구입금액 입력: \"))\n",
        "if price >= 20000:\n",
        "  shipping_cost = 0\n",
        "  print(f'구입금액이 {price}원 이상입니다.')\n",
        "else:\n",
        "  shipping_cost = 3000\n",
        "  print(\"구입금액이 2만원 이하입니다\")\n",
        "print(f'회원님의 배송료는 {shipping_cost}입니다.')"
      ],
      "metadata": {
        "colab": {
          "base_uri": "https://localhost:8080/"
        },
        "id": "JjOp5Q7S43RD",
        "outputId": "c489b202-3ab8-4ca9-a854-4c283b2e3a03"
      },
      "execution_count": 6,
      "outputs": [
        {
          "output_type": "stream",
          "name": "stdout",
          "text": [
            "구입금액 입력: 20000\n",
            "구입금액이 20000원 이상입니다.\n",
            "회원님의 배송료는 0입니다.\n"
          ]
        }
      ]
    },
    {
      "cell_type": "markdown",
      "source": [
        "3. 근무시간에 따라 초과근무와 정상근무를 판별하는 코드작성\n",
        " - 변수 : work_hour\n",
        " -tntlr : >= , 기준시간 : 72시간"
      ],
      "metadata": {
        "id": "5T9tD3fx7G2c"
      }
    },
    {
      "cell_type": "code",
      "source": [
        " work_hour = int(input(\"근무시간 입력: \"))\n",
        "if work_hour >= 72:\n",
        "  work_hour = 0\n",
        "  print(\"초과근무하였습니다\")\n",
        "else:\n",
        "  print(\"정상근무하였습니다\")"
      ],
      "metadata": {
        "colab": {
          "base_uri": "https://localhost:8080/"
        },
        "id": "rAx2A9Be8fHV",
        "outputId": "21939e66-4ecc-437c-9dcb-07a08a3fdc0c"
      },
      "execution_count": 7,
      "outputs": [
        {
          "output_type": "stream",
          "name": "stdout",
          "text": [
            "근무시간 입력: 69\n",
            "정상근무하였습니다\n"
          ]
        }
      ]
    },
    {
      "cell_type": "markdown",
      "source": [
        "4. 점수를 입력받아서 짝수인지 홀수인지 판별하는 코드 작성\n",
        " -변수 : num\n",
        " -수식 : (num % 2) != 0:"
      ],
      "metadata": {
        "id": "JbGpkP7c-AMb"
      }
    },
    {
      "cell_type": "code",
      "source": [
        "from prompt_toolkit.shortcuts.prompt import E\n",
        "num = int(input(\"점수를 입력하시오: \"))\n",
        "if (num % 2) != 0:\n",
        "  print(\"홀수입니다\")\n",
        "else:\n",
        "  print(\"짝수입니다]\")"
      ],
      "metadata": {
        "colab": {
          "base_uri": "https://localhost:8080/"
        },
        "id": "fPpPl_8S-uQy",
        "outputId": "de7cd36a-15ea-4e29-a867-7a8d16460cc3"
      },
      "execution_count": 8,
      "outputs": [
        {
          "output_type": "stream",
          "name": "stdout",
          "text": [
            "점수를 입력하시오: 4\n",
            "짝수입니다\n"
          ]
        }
      ]
    },
    {
      "cell_type": "markdown",
      "source": [
        "5. 사용자의 이름과 나이를 입력받고, 답변하는 코드 작성\n",
        " - 입력 : 성명 - name\n",
        " - 입력 : 나이 - age\n",
        " - 수식 : if age <= 20:\n",
        "\n",
        " 최종 출력물\n",
        " - 이름을 입력하시오.: 홍대경\n",
        " - 나이를 입력하시오.: 20\n",
        " - (1) 프로그래밍을 배우는 최적의 나이입니다.\n",
        " - (2) 아직도 늦기 않았습니다. 도전정신\n"
      ],
      "metadata": {
        "id": "tBppKiHWAl2j"
      }
    },
    {
      "cell_type": "code",
      "source": [
        "name = input(\"성명을 입력하시오: \")\n",
        "age = int (input(\"나이를 입력하시오: \"))\n",
        "if age <= 20:\n",
        "  print(\"프로그래밍을 배우는 최적의 나이입니다.\")\n",
        "else:\n",
        "  print(\"아직도 늦이 않았습니다. 도전정신\")\n",
        "\n"
      ],
      "metadata": {
        "colab": {
          "base_uri": "https://localhost:8080/"
        },
        "id": "YXKNmi4pBmda",
        "outputId": "88cdcef6-c344-4355-804b-9d35384ec06d"
      },
      "execution_count": 13,
      "outputs": [
        {
          "output_type": "stream",
          "name": "stdout",
          "text": [
            "성명을 입력하시오: 홍대경\n",
            "나이를 입력하시오: 20\n",
            "프로그래밍을 배우는 최적의 나이입니다.\n"
          ]
        }
      ]
    }
  ]
}