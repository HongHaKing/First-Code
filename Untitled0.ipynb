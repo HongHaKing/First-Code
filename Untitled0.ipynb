{
  "nbformat": 4,
  "nbformat_minor": 0,
  "metadata": {
    "colab": {
      "provenance": [],
      "authorship_tag": "ABX9TyPmOrQN0Y0P3jd76ublHX53",
      "include_colab_link": true
    },
    "kernelspec": {
      "name": "python3",
      "display_name": "Python 3"
    },
    "language_info": {
      "name": "python"
    }
  },
  "cells": [
    {
      "cell_type": "markdown",
      "metadata": {
        "id": "view-in-github",
        "colab_type": "text"
      },
      "source": [
        "<a href=\"https://colab.research.google.com/github/HongHaKing/First-Code/blob/main/Untitled0.ipynb\" target=\"_parent\"><img src=\"https://colab.research.google.com/assets/colab-badge.svg\" alt=\"Open In Colab\"/></a>"
      ]
    },
    {
      "cell_type": "markdown",
      "source": [
        "1. 배열의 선언\n",
        "  - 일반 변수의 선언 : 변수명 = 변수의 값\n",
        "  - 배열의 변수 선언 : 변수명 = [  ,   ,  ]"
      ],
      "metadata": {
        "id": "ZTYzuSYxMHPV"
      }
    },
    {
      "cell_type": "code",
      "source": [
        "movie_list = [\"아바타\", \"타이타닉\", \"스타워즈\", \"주라기월드\", \"어벤져스\"]\n",
        "print(movie_list[0])"
      ],
      "metadata": {
        "colab": {
          "base_uri": "https://localhost:8080/"
        },
        "id": "MkLDNgr1NU1r",
        "outputId": "2ff6ced6-e75d-4144-eb0d-2f4723d9a963"
      },
      "execution_count": 4,
      "outputs": [
        {
          "output_type": "stream",
          "name": "stdout",
          "text": [
            "아바타\n"
          ]
        }
      ]
    },
    {
      "cell_type": "markdown",
      "source": [
        "2. 요일을 배열로 선언하라.\n",
        "  - 변수명 : day_list\n",
        "   * 요일 : 월(mon.), 화(Tues), 수(wed.), 목(thur.), rma(Fri.), 토(Sat.), 일(sun.)"
      ],
      "metadata": {
        "id": "1XPsTOraOZsc"
      }
    },
    {
      "cell_type": "code",
      "source": [
        "day_list = [\"월(mon.)\", \"화(Tues)\", \"수(wed.)\", \"목(thur.)\", \"rma(Fri.)\", \"토(Sat.)\", \"일(sun.)\"]\n",
        "print(day_list[0])"
      ],
      "metadata": {
        "colab": {
          "base_uri": "https://localhost:8080/"
        },
        "id": "G697A44APNGb",
        "outputId": "69dab67a-7a5f-4880-ea06-38a5fece942b"
      },
      "execution_count": 5,
      "outputs": [
        {
          "output_type": "stream",
          "name": "stdout",
          "text": [
            "월(mon.)\n"
          ]
        }
      ]
    }
  ]
}